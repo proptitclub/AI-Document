{
 "cells": [
  {
   "cell_type": "markdown",
   "metadata": {},
   "source": [
    "# LeNet5 Convolution Neural Network \n",
    "-------------------\n"
   ]
  },
  {
   "attachments": {},
   "cell_type": "markdown",
   "metadata": {},
   "source": [
    "![image.png](https://trantheanh.github.io/assets/content_images/ml21-01.png)"
   ]
  },
  {
   "cell_type": "markdown",
   "metadata": {},
   "source": [
    "**INPUT => CONV + RELU => POOL => CONV + RELU => POOL => FC + RELU => FC + RELU => OUTPUT**"
   ]
  },
  {
   "cell_type": "markdown",
   "metadata": {},
   "source": [
    "# SUMMARY OF LeNet"
   ]
  },
  {
   "attachments": {},
   "cell_type": "markdown",
   "metadata": {},
   "source": [
    "![image.png](https://ringlayer.files.wordpress.com/2019/07/lenet.jpeg?w=649&h=331)"
   ]
  },
  {
   "cell_type": "markdown",
   "metadata": {},
   "source": [
    "Nhận xét: \n",
    "* Đây là 1 kiến trúc mạng CNN đơn giản ra đời năm 1994 bởi Yann LeCun \n",
    "* 3 Convolution Layers\n",
    "    * sử dụng hàm activation: sigmoid hoặc tanh dẫn đến **vanishing gradient** và thời gian xử lý lâu. \n",
    "    * no padding\n",
    "* 2 Pooling Layers xen giữa với stride = 2.\n",
    "* 3 Fully-connected Layers và sử dụng hàm action: softmax để dự đoán đầu ra. ( Bảng trên thiếu 1 FC Layer )\n"
   ]
  },
  {
   "cell_type": "markdown",
   "metadata": {},
   "source": [
    "MẠNG LeNet5 đã cải thiện hơn so với LeNet1, ACCURACCY trên bộ data MNIST đạt 0.99% khi dùng Lenet5. \n",
    "\n",
    "Vì thế, Lenet5 đã phổ biến hơn và khi nói đến LeNet thì nói tới kiến trúc mạng LeNet5."
   ]
  },
  {
   "cell_type": "markdown",
   "metadata": {},
   "source": [
    "# LeNet1 Convolution Neural Network \n",
    "---\n",
    "\n",
    "![image.png](https://miro.medium.com/max/1400/1*ge5OLutAT9_3fxt_sKTBGA.png)\n"
   ]
  },
  {
   "cell_type": "markdown",
   "metadata": {},
   "source": [
    "# LeNet4 Convolution Neural Network \n",
    "---\n",
    "\n",
    "![image.png](https://miro.medium.com/max/1400/1*6C0wlygR-GAnAwheozI1KQ.png)\n"
   ]
  },
  {
   "cell_type": "markdown",
   "metadata": {},
   "source": [
    "Sự khác nhau giữa LeNet1 và Lenet5 đó chính là feater map \n",
    "* LeNet1: 4 feature map tại Conv Layer đầu tiên và có 1 FC Layer ( Output Layer with softmax activation ).\n",
    "* LeNet4: 4 feature map tại Conv Layer đầu tiên và có 2 FC Layers.\n",
    "* LeNet5: 6 feature map tại Conv Layer đầu tiên và có 3 FC Layers. \n"
   ]
  }
 ],
 "metadata": {
  "kernelspec": {
   "display_name": "Python 3.7.4 64-bit ('miniconda3': virtualenv)",
   "language": "python",
   "name": "python37464bitminiconda3virtualenv21b7e84bc61143669f3038a277dedbe0"
  },
  "language_info": {
   "codemirror_mode": {
    "name": "ipython",
    "version": 3
   },
   "file_extension": ".py",
   "mimetype": "text/x-python",
   "name": "python",
   "nbconvert_exporter": "python",
   "pygments_lexer": "ipython3",
   "version": "3.7.4"
  }
 },
 "nbformat": 4,
 "nbformat_minor": 4
}
