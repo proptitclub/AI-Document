{
 "cells": [
  {
   "cell_type": "markdown",
   "metadata": {},
   "source": [
    "# ALEX NEURAL NETWORK "
   ]
  },
  {
   "cell_type": "markdown",
   "metadata": {},
   "source": [
    "![image.png](https://trantheanh.github.io/assets/content_images/ml22-01.png)"
   ]
  },
  {
   "cell_type": "markdown",
   "metadata": {},
   "source": [
    "AlexNet là một mạng CNN đã dành chiến thắng trong cuộc thi ImageNet phân loại 1000 classes vào năm 2012. \n",
    "\n",
    "Kiến trúc mạng này gồm 60 milions parameters và 65000 neurals trong toàn bộ Network. "
   ]
  },
  {
   "cell_type": "markdown",
   "metadata": {},
   "source": [
    "### Nhận xét "
   ]
  },
  {
   "cell_type": "markdown",
   "metadata": {},
   "source": [
    "* Gồm 8 Layers chính để học \n",
    "     * 5 Conv Layers: \n",
    "     * 3 FC Layers:\n",
    "* Sử dụng hàm phi tuyến tính **Relu**: nhằm tăng thời gian training. Đặc biệt đặt 25% error nhanh gấp 6 lần khi sử dụng hàm tanh. \n",
    "* **Multiple GPUs**: Do vấn đề về giới hạn bộ nhớ của GPU nên với một GPU độ phức tạp của mạng sẽ bị giới hạn. Nên để AlexNet với kiến trúc như trên thì cần tới 2 GPU để train. Các phần mạng được train trên các GPU khác nhau cũng sẽ chỉ giao tiếp với nhau ở một số lớp nhất định (như trên hình và giải thích trong phần kiến trúc mạng).\n",
    "* **Overlapping Pooling**: Lớp Pooling chồng chéo giảm thiểu 0.5% error, khó bị overfit hơn. \n",
    "* Vấn đề **Overfitting**: Vì Kiến trúc mạng AlexNet có 60  millions paramerers thế nên vấn đề overfitting đã được giải quyết:\n",
    "   * Data Augmentation\n",
    "   * Dropout\n"
   ]
  },
  {
   "cell_type": "markdown",
   "metadata": {},
   "source": [
    "### The difecrence between LeNet (left) and AlexNet (right)\n",
    "\n",
    "![image.png](https://d2l.ai/_images/alexnet.svg)\n"
   ]
  }
 ],
 "metadata": {
  "kernelspec": {
   "display_name": "Python 3.7.4 64-bit ('miniconda3': virtualenv)",
   "language": "python",
   "name": "python37464bitminiconda3virtualenv21b7e84bc61143669f3038a277dedbe0"
  },
  "language_info": {
   "codemirror_mode": {
    "name": "ipython",
    "version": 3
   },
   "file_extension": ".py",
   "mimetype": "text/x-python",
   "name": "python",
   "nbconvert_exporter": "python",
   "pygments_lexer": "ipython3",
   "version": "3.7.4"
  }
 },
 "nbformat": 4,
 "nbformat_minor": 4
}
