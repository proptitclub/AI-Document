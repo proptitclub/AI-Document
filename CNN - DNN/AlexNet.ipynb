{
  "nbformat": 4,
  "nbformat_minor": 0,
  "metadata": {
    "colab": {
      "name": "AlexNet.ipynb",
      "provenance": [],
      "collapsed_sections": [],
      "authorship_tag": "ABX9TyPkpP4Io21t3yMPNyxrOUej",
      "include_colab_link": true
    },
    "kernelspec": {
      "name": "python3",
      "display_name": "Python 3"
    }
  },
  "cells": [
    {
      "cell_type": "markdown",
      "metadata": {
        "id": "view-in-github",
        "colab_type": "text"
      },
      "source": [
        "<a href=\"https://colab.research.google.com/github/hoaileba/AI/blob/master/AlexNet.ipynb\" target=\"_parent\"><img src=\"https://colab.research.google.com/assets/colab-badge.svg\" alt=\"Open In Colab\"/></a>"
      ]
    },
    {
      "cell_type": "code",
      "metadata": {
        "id": "Q-Z0a10Xq0p8",
        "colab_type": "code",
        "colab": {}
      },
      "source": [
        ""
      ],
      "execution_count": 0,
      "outputs": []
    },
    {
      "cell_type": "markdown",
      "metadata": {
        "id": "2YlBIaFhr1Cf",
        "colab_type": "text"
      },
      "source": [
        "#ALEXNET :\n",
        "\n",
        "Đây là 1 Kiến trúc của mạng CNN với số lượng tham số( params) lớn \n",
        "\n",
        "I) Kiến Trúc Của AlexNet:\n",
        "\n",
        "- AlexNet gồm có 8 layer : \n",
        "    \n",
        "    - Trong đó có 5 layer Convolution và 3 layer Fully connected kèm theo đó là các layer Maxpooling và layer Normalizetion\n",
        "    - 5 lớp convolution gồm\n",
        "    ![alt text](https://miro.medium.com/max/2000/1*2DT1bjmvC-U-lrL7tpj6wg.png)\n",
        "      - 96 kernels of size 11 × 11 × 3 with step size 4\n",
        "      - 256 kernels of size 5 × 5 × 48* with step size 1\n",
        "      - 384 kernels of size 3 × 3 × 256 with step size 1\n",
        "      - 384 kernels of size 3 × 3 × 192* with step size 1\n",
        "      - 256 kernels of size 3 × 3 × 192* with step size 1\n",
        "    \n",
        "- AlextNet sử dụng hàm relu để thay thế cho những hàm activation như Tanh hoặc sigmod như LeNet vì khi sử dụng hàm này việc làm cho hiện tượng vanish gradient rất dễ xảy ra và cùng với đó hàm Relu khi được áp dụng tăng đáng kể thời gian huấn luyên \n",
        "- AlexNet sử dụng Local Response Normalization để chuẩn hóa làm tăng tốc độ hội tụ( nhưng hiện nay cũng ko còn dùng các LRN mà chuyển qua dùng là Batch Normalization) \n",
        "\n",
        "- Sử dụng Overlap pooling thay vì max pooling thông thường tức là stride bé hơn so vói kích thước của filter điều này làm giảm thiểu lỗi (error) và 1 khía cạnh nào đó có thể khó bị overfit hơn.\n",
        "Với việc sử dụng overlapping pooling, top-1 error rates giảm 0.4%, top-5 error rate giảm 0.3%.\n",
        "\n",
        "II) Giải Quyết vấn đề Overfitting:\n",
        "- Với lượng tham số vô cùng lớn lên đến 62.3 triệu tham số trong quá trình train thì đây là nguyên nhân dẫn đến khả năng cao mô hình Alexnet sẽ bị over-fiting. Và có 2 cách chủ đạo được sử dụng trong việc làm giảm tải hiện tượng over fiting:\n",
        "  - Data Augmentation : tăng cường dữ liệu tức là dữ liệu sẽ được đa dạng hóa dựa theo các dữ liệu có sẵn nhằm việc tạo thêm data, việc này sẽ cho model AlexNet nhìn cùng 1 sự vật dưới nhiều góc độ khác \n",
        "\n",
        "![alt text](https://3qeqpr26caki16dnhd19sv6by6v-wpengine.netdna-ssl.com/wp-content/uploads/2019/01/Plot-of-Augmented-Images-with-a-Horizontal-Flip.png)\n",
        "\n",
        "  - Dropout:  đây là hình thức đơn giản dễ thực hiện nhât nó sẽ bỏ đi ngãu nhiên 1 số node trong quá trình train tránh việc phụ thuộc vào 1 số node dẫn đến over fiting\n",
        "\n",
        "  ![alt text](https://miro.medium.com/max/1400/1*iWQzxhVlvadk6VAJjsgXgg.png)\n",
        "\n",
        "III) Tổng Kết:\n",
        "- Mô hình AlexNet là mô hình mạnh mẽ khi có khả năng nhận dạng ảnh cho ra kết quả cao. Nhưng đi kèm với đó còn nhiều vấn đề như việc có quá nhiều tham số gây tốn bộ nhớ và tốn phép tính toán sau mỗi lần FeedForward và Back-Propagation. Do vây AlexNet được train trên nhiều GPU\n",
        "\n",
        "\n",
        "\n"
      ]
    },
    {
      "cell_type": "markdown",
      "metadata": {
        "id": "HjhgGLVtCK6U",
        "colab_type": "text"
      },
      "source": [
        ""
      ]
    }
  ]
}